{
 "cells": [
  {
   "cell_type": "markdown",
   "source": [
    "# Tormek\n",
    "## Alternative methodology for computing Universal Support Bar heights"
   ],
   "metadata": {}
  }
 ],
 "metadata": {
  "orig_nbformat": 4,
  "language_info": {
   "name": "plaintext"
  }
 },
 "nbformat": 4,
 "nbformat_minor": 2
}